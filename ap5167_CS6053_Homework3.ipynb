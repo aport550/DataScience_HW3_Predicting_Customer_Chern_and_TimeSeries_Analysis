{
 "cells": [
  {
   "cell_type": "markdown",
   "metadata": {},
   "source": [
    "# Foundations of Data Science\n",
    "## Homework 3"
   ]
  },
  {
   "cell_type": "markdown",
   "metadata": {},
   "source": [
    "Student Name: Allan Porter\n",
    "\n",
    "Student Netid: ap5167\n",
    "***"
   ]
  },
  {
   "cell_type": "markdown",
   "metadata": {},
   "source": [
    "### Part 1 - Preparing a Training Set and Training a Decision Tree (Total 10 Points)\n",
    "This is a hands-on task where we build a predictive model using Decision Trees discussed in class. For this part, we will be using the data in `Cell2Cell_data.csv` (you can find this in the data folder).\n",
    "\n",
    "These historical data consist of 39,859 customers: 19,901 customers that churned (i.e., left the company) and 19,958 that did not churn (see the `\"churndep\"` variable). Here are the data set's 11 possible predictor variables for churning behavior: \n",
    "\n",
    "```\n",
    "Pos.  Var. Name  Var. Description\n",
    "----- ---------- --------------------------------------------------------------\n",
    "1     revenue    Mean monthly revenue in dollars\n",
    "2     outcalls   Mean number of outbound voice calls\n",
    "3     incalls    Mean number of inbound voice calls\n",
    "4     months     Months in Service\n",
    "5     eqpdays    Number of days the customer has had his/her current equipment\n",
    "6     webcap     Handset is web capable\n",
    "7     marryyes   Married (1=Yes; 0=No)\n",
    "8     travel     Has traveled to non-US country (1=Yes; 0=No)\n",
    "9     pcown      Owns a personal computer (1=Yes; 0=No)\n",
    "10    creditcd   Possesses a credit card (1=Yes; 0=No)\n",
    "11    retcalls   Number of calls previously made to retention team\n",
    "```\n",
    "\n",
    "The 12th column, the dependent variable `\"churndep\"`, equals 1 if the customer churned, and 0 otherwise. "
   ]
  },
  {
   "cell_type": "markdown",
   "metadata": {},
   "source": [
    "1\\. Load the data and prepare it for modeling. Note that the features are already processed for you, so the only thing needed here is split the data into training and testing. Use pandas to create two data frames: train_df and test_df, where train_df has 80% of the data chosen uniformly at random without replacement (test_df should have the other 20%). Also, make sure to write your own code to do the splits. You may use any random() function from numpy but do not use the data splitting functions from Sklearn.<br><br>\n",
    "\n",
    "(2 Points)"
   ]
  },
  {
   "cell_type": "code",
   "execution_count": 153,
   "metadata": {},
   "outputs": [],
   "source": [
    "import numpy as np\n",
    "import pandas as pd\n",
    "\n",
    "np.random.seed(20)\n",
    "df = pd.read_csv('Data/Cell2Cell_data.csv')\n",
    "split = np.random.rand(df.shape[0])\n",
    "train_df = df[split < .80]\n",
    "test_df = df[split >= .80]\n",
    "X_train = train_df.drop('churndep',axis=1)\n",
    "y_train = train_df.loc[:,'churndep']\n",
    "X_test = test_df.drop('churndep',axis=1)\n",
    "y_test = test_df.loc[:,'churndep']\n",
    "\n",
    "#(train.shape[0] / (train.shape[0] + test.shape[0])),(test.shape[0]/(train.shape[0]+test.shape[0]))\n"
   ]
  },
  {
   "cell_type": "markdown",
   "metadata": {},
   "source": [
    "2\\. If we had to, how would we prove to ourselves or a colleague that our data was indeed randomly sampled on X? And by prove, I mean empirically, not just showing this person our code. Don't actually do the work, just describe in your own words a test you could here. Hint: think about this in terms of selection bias and use notes from our 2nd lecture.\n",
    "\n",
    "(1 Point)"
   ]
  },
  {
   "cell_type": "markdown",
   "metadata": {},
   "source": [
    "<p>\n",
    "<div style=\"color:blue\">\n",
    "We could add a new column with labels to each of the train and test datasets and assign a 0 in the new column to all entries in the training set and 1 to all entries in the test set.   We can then recombine them into one dataframe which now indicates whether each entry is from the test or training set.  The data can be partitioned into training and tests a few times each with different parts of the original data being partitioned.  For each partition, we can then use a classifier to fit the training datasets and predict the target variable.   If we see that the predictive values aren't very skewed it shows that there is not too much selection bias and our selection was in fact random.\n",
    "<br><br>\n",
    "The probability of customers churning should be at around 50% (the overall frequency of customer churning in the total original dataset) for each of the partitioned datasets.  This would indicate that the data was in fact partitioned at random.   If there is a probability much higher or lower that shows that the partitioning of data was uneven between the training and test sets.    \n",
    "</div>\n",
    "</p>"
   ]
  },
  {
   "cell_type": "markdown",
   "metadata": {},
   "source": [
    "3\\. Now build and train a decision tree classifier using `DecisionTreeClassifier()` [(manual page)](http://scikit-learn.org/stable/modules/generated/sklearn.tree.DecisionTreeClassifier.html) on train_df to predict the `\"churndep\"` target variable. Make sure to use `criterion='entropy'` when instantiating an instance of `DecisionTreeClassifier()`. For all other settings you should use all of the default options.\n",
    "\n",
    "(1 Point)"
   ]
  },
  {
   "cell_type": "code",
   "execution_count": 154,
   "metadata": {},
   "outputs": [],
   "source": [
    "#Place your code here\n",
    "from sklearn.tree import DecisionTreeClassifier\n",
    "clf = DecisionTreeClassifier(criterion='entropy')\n",
    "clf = clf.fit(X_train,y_train)"
   ]
  },
  {
   "cell_type": "markdown",
   "metadata": {},
   "source": [
    "4\\. Using the resulting model from 2.3, show a bar plot of feature names and their feature importance (hint: check the attributes of the `DecisionTreeClassifier()` object directly in IPython or check the manual!).\n",
    "\n",
    "(3 Points)"
   ]
  },
  {
   "cell_type": "code",
   "execution_count": 155,
   "metadata": {
    "scrolled": false
   },
   "outputs": [
    {
     "data": {
      "image/png": "[encoded data removed]",
      "text/plain": [
       "<Figure size 720x288 with 1 Axes>"
      ]
     },
     "metadata": {
      "needs_background": "light"
     },
     "output_type": "display_data"
    }
   ],
   "source": [
    "#Place your code here\n",
    "import matplotlib.pyplot as plt\n",
    "%matplotlib inline\n",
    "from pylab import rcParams\n",
    "rcParams['figure.figsize'] = 10, 4\n",
    "feat_importances = clf.feature_importances_\n",
    "#to_graph = [X_train.columns[arg] for arg in np.argsort(feat_importances)[::-1]]\n",
    "df_added = pd.DataFrame(index=X_train.columns,columns=[\"importances\"])\n",
    "df_added.importances = feat_importances\n",
    "df_added.sort_values(by='importances',ascending=False,inplace=True)\n",
    "plt.bar(df_added.index, df_added.importances, color='green')\n",
    "plt.xlabel(\"Features\")\n",
    "plt.ylabel(\"Feature Importance\")\n",
    "plt.title(\"Ranking Feature Importance\")\n",
    "plt.legend=True\n",
    "plt.tight_layout()\n"
   ]
  },
  {
   "cell_type": "markdown",
   "metadata": {},
   "source": [
    "5\\. Is the relationship between the top 3 most important features (as measured here) negative or positive? If your marketing director asked you to explain the top 3 drivers of churn, how would you interpret the relationship between these 3 features and the churn outcome?  What \"real-life\" connection can you draw between each variable and churn?\n",
    "\n",
    "(2 Points)"
   ]
  },
  {
   "cell_type": "code",
   "execution_count": 156,
   "metadata": {},
   "outputs": [
    {
     "data": {
      "text/html": [
       "<div>\n",
       "<style scoped>\n",
       "    .dataframe tbody tr th:only-of-type {\n",
       "        vertical-align: middle;\n",
       "    }\n",
       "\n",
       "    .dataframe tbody tr th {\n",
       "        vertical-align: top;\n",
       "    }\n",
       "\n",
       "    .dataframe thead th {\n",
       "        text-align: right;\n",
       "    }\n",
       "</style>\n",
       "<table border=\"1\" class=\"dataframe\">\n",
       "  <thead>\n",
       "    <tr style=\"text-align: right;\">\n",
       "      <th></th>\n",
       "      <th>revenue</th>\n",
       "      <th>eqpdays</th>\n",
       "      <th>outcalls</th>\n",
       "    </tr>\n",
       "  </thead>\n",
       "  <tbody>\n",
       "    <tr>\n",
       "      <th>revenue</th>\n",
       "      <td>1.000000</td>\n",
       "      <td>-0.226452</td>\n",
       "      <td>0.495140</td>\n",
       "    </tr>\n",
       "    <tr>\n",
       "      <th>eqpdays</th>\n",
       "      <td>-0.226452</td>\n",
       "      <td>1.000000</td>\n",
       "      <td>-0.246837</td>\n",
       "    </tr>\n",
       "    <tr>\n",
       "      <th>outcalls</th>\n",
       "      <td>0.495140</td>\n",
       "      <td>-0.246837</td>\n",
       "      <td>1.000000</td>\n",
       "    </tr>\n",
       "  </tbody>\n",
       "</table>\n",
       "</div>"
      ],
      "text/plain": [
       "           revenue   eqpdays  outcalls\n",
       "revenue   1.000000 -0.226452  0.495140\n",
       "eqpdays  -0.226452  1.000000 -0.246837\n",
       "outcalls  0.495140 -0.246837  1.000000"
      ]
     },
     "execution_count": 156,
     "metadata": {},
     "output_type": "execute_result"
    }
   ],
   "source": [
    "index = np.argsort(feat_importances)[::-1]\n",
    "top_3 = [X_train.columns[i] for i in index[:3]]\n",
    "X_train[top_3].corr()"
   ]
  },
  {
   "cell_type": "markdown",
   "metadata": {},
   "source": [
    "<p>\n",
    "<span style=\"color:blue\">\n",
    "    \n",
    "<b>The relationship between the 3 most important features: </b>\n",
    "\n",
    "Revenue and the number of days the customer had his/her current equipment are slight negatively correlated meaning that on average, the more days the customer had his/her equipment, the slightly less revenue he or she will bring in to the company. This slight correlation could make sense as if customers keep their own equipment for longer, they will be less likely to change and purchase new equipment from the company, which will in turn leave the company with less revenue.  That being the correlation is slight.  \n",
    "\n",
    "The number of days that customers had their current equipment and the outgoing voice calls they made are positively correlated as more outgoing calls by the customer could indicate that the customer perhaps had interest or was already utilizing company services including the use of company equipment.  \n",
    "<br>\n",
    "The revenue brought in per customer and the outgoing voice calls the customers made are positively correlated as outgoing voice calls by the customer indicate that the customer perhaps had interest or was utilizing company services which subsequently led to increased revenue.  \n",
    "<br>\n",
    "<b>The relationship between each of the 3 most important features and churning: </b>\n",
    "\n",
    "The revenue brought in by the customer and likelihood they churn have an extremely slight negative relationship meaning that customers who bring in more revenue are on average slightly less likely to churn. We could speculate that these customers are probably on average more committed to the services of the company as indicated by the amount they spend on company services. \n",
    "\n",
    "The amount of outgoing calls the customer makes and the likelihood they churn have a very slight negative relationship which means that customers who make more outgoing voice calls to the company are on average less likely to churn.  We could speculate that customers who make more outgoing calls to the company are either inquiring about or utilizing a higher amount of company services which means they are more committed or satisfied by the company and less likely to churn.   \n",
    "\n",
    "The amount of days the customer has their current equipment and the likelihood that they churn have a mildly positive  relationship which means that customers who keep their current equipment for longer are on average more likely to churn.  We could speculate that customers who keep their current equipment for longer instead of buying equipment for the company are on average less committed or satisfied by the companys services and thereby more likely to churn.   \n",
    "\n",
    "\n",
    "</span>\n",
    "</p>"
   ]
  },
  {
   "cell_type": "markdown",
   "metadata": {},
   "source": [
    "6\\. Using the classifier built in 2.3, try predicting `\"churndep\"` on both the train_df and test_df data sets. What is the accuracy on each?\n",
    "\n",
    "(1 Point)"
   ]
  },
  {
   "cell_type": "code",
   "execution_count": 157,
   "metadata": {
    "scrolled": false
   },
   "outputs": [
    {
     "name": "stdout",
     "output_type": "stream",
     "text": [
      "Training Set Accuracy: 0.9997490825831948\n",
      "Testing Set Accuracy: 0.5332246740220662\n"
     ]
    }
   ],
   "source": [
    "#Place your code here\n",
    "from sklearn.metrics import accuracy_score\n",
    "y_pred_train = clf.predict(X_train)\n",
    "y_pred_test = clf.predict(X_test)\n",
    "print(\"Training Set Accuracy:\",accuracy_score(y_train, y_pred_train))\n",
    "print(\"Testing Set Accuracy:\",accuracy_score(y_test, y_pred_test))\n"
   ]
  },
  {
   "cell_type": "markdown",
   "metadata": {},
   "source": [
    "### Part 2 - Finding a Good Decision Tree (Total 10 Points)\n",
    "The default options for your decision tree may not be optimal. We need to analyze whether tuning the parameters can improve the accuracy of the classifier.  For the following options `min_samples_split` and `min_samples_leaf`:"
   ]
  },
  {
   "cell_type": "markdown",
   "metadata": {},
   "source": [
    "1\\. Generate a list of 10 values of each for the parameters min_samples_split and min_samples_leaf. \n",
    "\n",
    "(1 Point)"
   ]
  },
  {
   "cell_type": "code",
   "execution_count": 158,
   "metadata": {},
   "outputs": [
    {
     "data": {
      "text/plain": [
       "array([   2,    4,   10,   25,   59,  138,  322,  752, 1755, 4096])"
      ]
     },
     "execution_count": 158,
     "metadata": {},
     "output_type": "execute_result"
    }
   ],
   "source": [
    "#min samples split refers to minimum number of samples required to split an internal node- def 2\n",
    "#min samples leaf refers to minimum number of samples required to be at leaf node- def 1\n",
    "\n",
    "min_samples_split = np.logspace(1,12,num=10,base=2).astype(int)\n",
    "min_samples_leaf = np.logspace(1,12,num=10,base=2).astype(int)\n",
    "#min_samples_split = np.arange(10,1000,100).astype(int)\n",
    "# min_samples_leaf = np.logspace(.4,4,num=10).astype(int)\n",
    "min_samples_split"
   ]
  },
  {
   "cell_type": "markdown",
   "metadata": {},
   "source": [
    "2\\. Explain in words your reasoning for choosing the above ranges.\n",
    "\n",
    "(1 Points)"
   ]
  },
  {
   "cell_type": "markdown",
   "metadata": {},
   "source": [
    "<p>\n",
    "<div style=\"color:black\">\n",
    "We see that our model in part 1 has a training accuracy of near 100, but only a test accuracy in the lower 50s. This indicates severe overiftting.   The minimum leaf size (which is by default 1) can be set to a higher number so that the decision tree stops splitting at a more upper level in the tree where the leaf size is larger and doesn't overspecify the data.  Additionally, the Minimum split size(minimum size of samples required to split an internal node) can also be set to a higher number so less of a sample size is required to split at internal nodes.   \n",
    "<br>\n",
    "    <br>\n",
    "    Since trees grow at an expontential rate, I used a logarithmically spaced out number range for hyperparameters to account for the trees exponential growth.    For min_split_size, I stopped at 2^12, since I noticed that after that it overfits and the accuracy drops.  \n",
    "</div>\n",
    "</p>"
   ]
  },
  {
   "cell_type": "markdown",
   "metadata": {},
   "source": [
    "3\\. For each combination of values in 3.1 (there should be 100), build a new classifier and check the classifier's accuracy on the test data. Plot the test set accuracy for these options. Use the values of `min_samples_split` as the x-axis and generate a new series (line) for each of `min_samples_leaf`.\n",
    "\n",
    "(5 Points)"
   ]
  },
  {
   "cell_type": "code",
   "execution_count": 159,
   "metadata": {},
   "outputs": [
    {
     "data": {
      "text/html": [
       "<div>\n",
       "<style scoped>\n",
       "    .dataframe tbody tr th:only-of-type {\n",
       "        vertical-align: middle;\n",
       "    }\n",
       "\n",
       "    .dataframe tbody tr th {\n",
       "        vertical-align: top;\n",
       "    }\n",
       "\n",
       "    .dataframe thead th {\n",
       "        text-align: right;\n",
       "    }\n",
       "</style>\n",
       "<table border=\"1\" class=\"dataframe\">\n",
       "  <thead>\n",
       "    <tr style=\"text-align: right;\">\n",
       "      <th></th>\n",
       "      <th>2</th>\n",
       "      <th>4</th>\n",
       "      <th>10</th>\n",
       "      <th>25</th>\n",
       "      <th>59</th>\n",
       "      <th>138</th>\n",
       "      <th>322</th>\n",
       "      <th>752</th>\n",
       "      <th>1755</th>\n",
       "      <th>4096</th>\n",
       "    </tr>\n",
       "  </thead>\n",
       "  <tbody>\n",
       "    <tr>\n",
       "      <th>2</th>\n",
       "      <td>0.525953</td>\n",
       "      <td>0.525577</td>\n",
       "      <td>0.536108</td>\n",
       "      <td>0.563064</td>\n",
       "      <td>0.569835</td>\n",
       "      <td>0.582623</td>\n",
       "      <td>0.59002</td>\n",
       "      <td>0.585883</td>\n",
       "      <td>0.590647</td>\n",
       "      <td>0.580241</td>\n",
       "    </tr>\n",
       "    <tr>\n",
       "      <th>4</th>\n",
       "      <td>0.527332</td>\n",
       "      <td>0.526956</td>\n",
       "      <td>0.535732</td>\n",
       "      <td>0.562688</td>\n",
       "      <td>0.570461</td>\n",
       "      <td>0.582623</td>\n",
       "      <td>0.59002</td>\n",
       "      <td>0.585883</td>\n",
       "      <td>0.590647</td>\n",
       "      <td>0.580241</td>\n",
       "    </tr>\n",
       "    <tr>\n",
       "      <th>10</th>\n",
       "      <td>0.531344</td>\n",
       "      <td>0.526329</td>\n",
       "      <td>0.534855</td>\n",
       "      <td>0.563064</td>\n",
       "      <td>0.570461</td>\n",
       "      <td>0.582623</td>\n",
       "      <td>0.59002</td>\n",
       "      <td>0.585883</td>\n",
       "      <td>0.590647</td>\n",
       "      <td>0.580241</td>\n",
       "    </tr>\n",
       "    <tr>\n",
       "      <th>25</th>\n",
       "      <td>0.544509</td>\n",
       "      <td>0.535356</td>\n",
       "      <td>0.535983</td>\n",
       "      <td>0.562688</td>\n",
       "      <td>0.569835</td>\n",
       "      <td>0.582623</td>\n",
       "      <td>0.59002</td>\n",
       "      <td>0.585883</td>\n",
       "      <td>0.590647</td>\n",
       "      <td>0.580241</td>\n",
       "    </tr>\n",
       "    <tr>\n",
       "      <th>59</th>\n",
       "      <td>0.547141</td>\n",
       "      <td>0.541876</td>\n",
       "      <td>0.549524</td>\n",
       "      <td>0.564193</td>\n",
       "      <td>0.570461</td>\n",
       "      <td>0.582623</td>\n",
       "      <td>0.59002</td>\n",
       "      <td>0.585883</td>\n",
       "      <td>0.590647</td>\n",
       "      <td>0.580241</td>\n",
       "    </tr>\n",
       "    <tr>\n",
       "      <th>138</th>\n",
       "      <td>0.56344</td>\n",
       "      <td>0.565697</td>\n",
       "      <td>0.565446</td>\n",
       "      <td>0.571339</td>\n",
       "      <td>0.572718</td>\n",
       "      <td>0.582623</td>\n",
       "      <td>0.59002</td>\n",
       "      <td>0.585883</td>\n",
       "      <td>0.590647</td>\n",
       "      <td>0.580241</td>\n",
       "    </tr>\n",
       "    <tr>\n",
       "      <th>322</th>\n",
       "      <td>0.574223</td>\n",
       "      <td>0.574223</td>\n",
       "      <td>0.575727</td>\n",
       "      <td>0.58162</td>\n",
       "      <td>0.570838</td>\n",
       "      <td>0.581118</td>\n",
       "      <td>0.59002</td>\n",
       "      <td>0.585883</td>\n",
       "      <td>0.590647</td>\n",
       "      <td>0.580241</td>\n",
       "    </tr>\n",
       "    <tr>\n",
       "      <th>752</th>\n",
       "      <td>0.58676</td>\n",
       "      <td>0.586384</td>\n",
       "      <td>0.586384</td>\n",
       "      <td>0.587513</td>\n",
       "      <td>0.584127</td>\n",
       "      <td>0.586384</td>\n",
       "      <td>0.592277</td>\n",
       "      <td>0.585883</td>\n",
       "      <td>0.590647</td>\n",
       "      <td>0.580241</td>\n",
       "    </tr>\n",
       "    <tr>\n",
       "      <th>1755</th>\n",
       "      <td>0.593907</td>\n",
       "      <td>0.593907</td>\n",
       "      <td>0.593907</td>\n",
       "      <td>0.593656</td>\n",
       "      <td>0.596414</td>\n",
       "      <td>0.590898</td>\n",
       "      <td>0.594032</td>\n",
       "      <td>0.585883</td>\n",
       "      <td>0.590647</td>\n",
       "      <td>0.580241</td>\n",
       "    </tr>\n",
       "    <tr>\n",
       "      <th>4096</th>\n",
       "      <td>0.598044</td>\n",
       "      <td>0.598044</td>\n",
       "      <td>0.598044</td>\n",
       "      <td>0.598044</td>\n",
       "      <td>0.598044</td>\n",
       "      <td>0.591525</td>\n",
       "      <td>0.591525</td>\n",
       "      <td>0.593781</td>\n",
       "      <td>0.590647</td>\n",
       "      <td>0.580241</td>\n",
       "    </tr>\n",
       "  </tbody>\n",
       "</table>\n",
       "</div>"
      ],
      "text/plain": [
       "          2         4         10        25        59        138       322   \\\n",
       "2     0.525953  0.525577  0.536108  0.563064  0.569835  0.582623   0.59002   \n",
       "4     0.527332  0.526956  0.535732  0.562688  0.570461  0.582623   0.59002   \n",
       "10    0.531344  0.526329  0.534855  0.563064  0.570461  0.582623   0.59002   \n",
       "25    0.544509  0.535356  0.535983  0.562688  0.569835  0.582623   0.59002   \n",
       "59    0.547141  0.541876  0.549524  0.564193  0.570461  0.582623   0.59002   \n",
       "138    0.56344  0.565697  0.565446  0.571339  0.572718  0.582623   0.59002   \n",
       "322   0.574223  0.574223  0.575727   0.58162  0.570838  0.581118   0.59002   \n",
       "752    0.58676  0.586384  0.586384  0.587513  0.584127  0.586384  0.592277   \n",
       "1755  0.593907  0.593907  0.593907  0.593656  0.596414  0.590898  0.594032   \n",
       "4096  0.598044  0.598044  0.598044  0.598044  0.598044  0.591525  0.591525   \n",
       "\n",
       "          752       1755      4096  \n",
       "2     0.585883  0.590647  0.580241  \n",
       "4     0.585883  0.590647  0.580241  \n",
       "10    0.585883  0.590647  0.580241  \n",
       "25    0.585883  0.590647  0.580241  \n",
       "59    0.585883  0.590647  0.580241  \n",
       "138   0.585883  0.590647  0.580241  \n",
       "322   0.585883  0.590647  0.580241  \n",
       "752   0.585883  0.590647  0.580241  \n",
       "1755  0.585883  0.590647  0.580241  \n",
       "4096  0.593781  0.590647  0.580241  "
      ]
     },
     "execution_count": 159,
     "metadata": {},
     "output_type": "execute_result"
    }
   ],
   "source": [
    "#Place your code here\n",
    "accuracies = pd.DataFrame(columns=min_samples_leaf,index = min_samples_split)\n",
    "from sklearn.tree import DecisionTreeClassifier\n",
    "for i in range(len(min_samples_split)):\n",
    "    for j in range(len(min_samples_leaf)):\n",
    "        clf = DecisionTreeClassifier(criterion='entropy', min_samples_leaf = min_samples_leaf[j], min_samples_split = min_samples_split[i])\n",
    "        #print(min_samples_leaf[j],min_samples_split[i])\n",
    "        clf = clf.fit(X_train,y_train)\n",
    "        y_pred = clf.predict(X_test)\n",
    "        #print(\"Accuracy:\",accuracy_score(y_test, y_pred))\n",
    "        #accuracies.append(accuracy_score(y_test, y_pred))\n",
    "        accuracies.iloc[i,j] = accuracy_score(y_test, y_pred)\n",
    "        #print(min_samples_leaf[j],min_samples_split[i], accuracy_score(y_test,y_pred))\n",
    "\n",
    "        \n",
    "#accuracies = np.log2(accuracies)\n",
    "accuracies"
   ]
  },
  {
   "cell_type": "code",
   "execution_count": 160,
   "metadata": {
    "scrolled": false
   },
   "outputs": [
    {
     "name": "stdout",
     "output_type": "stream",
     "text": [
      "The highest accuracy for our classifier is 0.5980441323971916 and is obtained when the minimum split size is 4096 and the minimum leaf size is 2\n"
     ]
    },
    {
     "data": {
      "image/png": "[encoded data removed]",
      "text/plain": [
       "<Figure size 1008x216 with 1 Axes>"
      ]
     },
     "metadata": {
      "needs_background": "light"
     },
     "output_type": "display_data"
    }
   ],
   "source": [
    "best = accuracies.values.max()\n",
    "best_split = np.argmax(accuracies.values)\n",
    "best_leaf = accuracies.stack().index[best_split]\n",
    "\n",
    "print(f\"The highest accuracy for our classifier is {best} and is obtained when the minimum split size is {best_leaf[0]} and the minimum leaf size is {best_leaf[1]}\")\n",
    "#accuracies\n",
    "ax = plt.figure(figsize=(14,3))\n",
    "plt.title(\"Accuracy by split and leaf size\")\n",
    "plt.xlabel(\"Min Samples Split (Log2 Spaced)\")\n",
    "plt.ylabel(\"Accuracy\")\n",
    "for i in range(len(min_samples_leaf)):\n",
    "    plt.plot(np.log2(min_samples_split.astype(int)),(accuracies.iloc[:,i]),label=\"Min Leaf Size: {}\".format(accuracies.columns[i]))\n",
    "ax.legend(loc=\"lower right\")\n",
    "plt.tight_layout()"
   ]
  },
  {
   "cell_type": "markdown",
   "metadata": {},
   "source": [
    "4\\. Which configuration returns the best accuracy? What is this accuracy? (Note, if you don't see much variation in the test set accuracy across values of min_samples_split or min_samples_leaf, try redoing the above steps with a different range of values).\n",
    "\n",
    "(1 Point)"
   ]
  },
  {
   "cell_type": "markdown",
   "metadata": {
    "collapsed": true
   },
   "source": [
    "<p>\n",
    "<span style=\"color:blue\">\n",
    "The best accuracy of approximately 0.598 was garnered where the mimimum_leaf_size was 2 and the minimum_split_size was 4096.  The accuracy is the percentage of total times the decision tree classifier fit to the training set attempted to predict the test sets churndep value and predicted it correctly.\n",
    "</span>\n",
    "</p>"
   ]
  },
  {
   "cell_type": "markdown",
   "metadata": {},
   "source": [
    "5\\. If you were working for a marketing department, how would you use your churn production model in a real business environment? Explain why churn prediction might be good for the business and how one might improve churn by using this model.\n",
    "\n",
    "(2 Points)"
   ]
  },
  {
   "cell_type": "markdown",
   "metadata": {},
   "source": [
    "<p>\n",
    "<div style=\"color:blue\">\n",
    "Companies obviously place high value on churn rate as the more clients/customers they keep, the more revenue they will have a chance of making from each.  After all, for a company to increase their clientele their growth rate must exceed their churn rate.\n",
    "    <br><br>\n",
    "The churn model created above is important as it could predict which customers are likely to churn and stop using their services.  If the company had a way to accurately predict which customers will churn, they can advertise more to those customers and make more of an effort to maintain customers who are predicted to churn.  They could also logically deduce why such customers are churning and intervene to fix those problems based on the variables that contribute to churn.  Customers who are at high risk of churning as calculated by the model may be offered promotions for certain services at a higher rate than other customers to stop them from taking their business elsewhere.  The company could also try and reach out to them to see if they require any customer support. \n",
    "    \n",
    "    \n",
    " </div>\n",
    "</p>"
   ]
  },
  {
   "cell_type": "markdown",
   "metadata": {
    "collapsed": true
   },
   "source": [
    "### Part 3 - Working with Time Series (Total 10 Points)\n",
    "Here we will analyze a timeseries of number of Yellow Fever cases from a specific Asian country by year. The data is from 1700 – 2008. The file `cases.csv` is available in the data folder.\n",
    "\n"
   ]
  },
  {
   "cell_type": "markdown",
   "metadata": {},
   "source": [
    "1\\. Load the cases data set, and prepare the dataset by converting the variables to date-time format (hint: use date tools). (1 point)"
   ]
  },
  {
   "cell_type": "code",
   "execution_count": 150,
   "metadata": {
    "scrolled": true
   },
   "outputs": [
    {
     "data": {
      "text/html": [
       "<div>\n",
       "<style scoped>\n",
       "    .dataframe tbody tr th:only-of-type {\n",
       "        vertical-align: middle;\n",
       "    }\n",
       "\n",
       "    .dataframe tbody tr th {\n",
       "        vertical-align: top;\n",
       "    }\n",
       "\n",
       "    .dataframe thead th {\n",
       "        text-align: right;\n",
       "    }\n",
       "</style>\n",
       "<table border=\"1\" class=\"dataframe\">\n",
       "  <thead>\n",
       "    <tr style=\"text-align: right;\">\n",
       "      <th></th>\n",
       "      <th>YFCASES</th>\n",
       "    </tr>\n",
       "    <tr>\n",
       "      <th>YEAR</th>\n",
       "      <th></th>\n",
       "    </tr>\n",
       "  </thead>\n",
       "  <tbody>\n",
       "    <tr>\n",
       "      <th>1700-01-01</th>\n",
       "      <td>5.0</td>\n",
       "    </tr>\n",
       "    <tr>\n",
       "      <th>1701-01-01</th>\n",
       "      <td>11.0</td>\n",
       "    </tr>\n",
       "    <tr>\n",
       "      <th>1702-01-01</th>\n",
       "      <td>16.0</td>\n",
       "    </tr>\n",
       "    <tr>\n",
       "      <th>1703-01-01</th>\n",
       "      <td>23.0</td>\n",
       "    </tr>\n",
       "    <tr>\n",
       "      <th>1704-01-01</th>\n",
       "      <td>36.0</td>\n",
       "    </tr>\n",
       "    <tr>\n",
       "      <th>1705-01-01</th>\n",
       "      <td>58.0</td>\n",
       "    </tr>\n",
       "    <tr>\n",
       "      <th>1706-01-01</th>\n",
       "      <td>29.0</td>\n",
       "    </tr>\n",
       "    <tr>\n",
       "      <th>1707-01-01</th>\n",
       "      <td>20.0</td>\n",
       "    </tr>\n",
       "    <tr>\n",
       "      <th>1708-01-01</th>\n",
       "      <td>10.0</td>\n",
       "    </tr>\n",
       "    <tr>\n",
       "      <th>1709-01-01</th>\n",
       "      <td>8.0</td>\n",
       "    </tr>\n",
       "    <tr>\n",
       "      <th>1710-01-01</th>\n",
       "      <td>3.0</td>\n",
       "    </tr>\n",
       "    <tr>\n",
       "      <th>1711-01-01</th>\n",
       "      <td>0.0</td>\n",
       "    </tr>\n",
       "    <tr>\n",
       "      <th>1712-01-01</th>\n",
       "      <td>0.0</td>\n",
       "    </tr>\n",
       "    <tr>\n",
       "      <th>1713-01-01</th>\n",
       "      <td>2.0</td>\n",
       "    </tr>\n",
       "    <tr>\n",
       "      <th>1714-01-01</th>\n",
       "      <td>11.0</td>\n",
       "    </tr>\n",
       "    <tr>\n",
       "      <th>1715-01-01</th>\n",
       "      <td>27.0</td>\n",
       "    </tr>\n",
       "    <tr>\n",
       "      <th>1716-01-01</th>\n",
       "      <td>47.0</td>\n",
       "    </tr>\n",
       "    <tr>\n",
       "      <th>1717-01-01</th>\n",
       "      <td>63.0</td>\n",
       "    </tr>\n",
       "    <tr>\n",
       "      <th>1718-01-01</th>\n",
       "      <td>60.0</td>\n",
       "    </tr>\n",
       "    <tr>\n",
       "      <th>1719-01-01</th>\n",
       "      <td>39.0</td>\n",
       "    </tr>\n",
       "    <tr>\n",
       "      <th>1720-01-01</th>\n",
       "      <td>28.0</td>\n",
       "    </tr>\n",
       "    <tr>\n",
       "      <th>1721-01-01</th>\n",
       "      <td>26.0</td>\n",
       "    </tr>\n",
       "    <tr>\n",
       "      <th>1722-01-01</th>\n",
       "      <td>22.0</td>\n",
       "    </tr>\n",
       "    <tr>\n",
       "      <th>1723-01-01</th>\n",
       "      <td>11.0</td>\n",
       "    </tr>\n",
       "    <tr>\n",
       "      <th>1724-01-01</th>\n",
       "      <td>21.0</td>\n",
       "    </tr>\n",
       "    <tr>\n",
       "      <th>1725-01-01</th>\n",
       "      <td>40.0</td>\n",
       "    </tr>\n",
       "    <tr>\n",
       "      <th>1726-01-01</th>\n",
       "      <td>78.0</td>\n",
       "    </tr>\n",
       "    <tr>\n",
       "      <th>1727-01-01</th>\n",
       "      <td>122.0</td>\n",
       "    </tr>\n",
       "    <tr>\n",
       "      <th>1728-01-01</th>\n",
       "      <td>103.0</td>\n",
       "    </tr>\n",
       "    <tr>\n",
       "      <th>1729-01-01</th>\n",
       "      <td>73.0</td>\n",
       "    </tr>\n",
       "    <tr>\n",
       "      <th>...</th>\n",
       "      <td>...</td>\n",
       "    </tr>\n",
       "    <tr>\n",
       "      <th>1979-01-01</th>\n",
       "      <td>155.4</td>\n",
       "    </tr>\n",
       "    <tr>\n",
       "      <th>1980-01-01</th>\n",
       "      <td>154.6</td>\n",
       "    </tr>\n",
       "    <tr>\n",
       "      <th>1981-01-01</th>\n",
       "      <td>140.4</td>\n",
       "    </tr>\n",
       "    <tr>\n",
       "      <th>1982-01-01</th>\n",
       "      <td>115.9</td>\n",
       "    </tr>\n",
       "    <tr>\n",
       "      <th>1983-01-01</th>\n",
       "      <td>66.6</td>\n",
       "    </tr>\n",
       "    <tr>\n",
       "      <th>1984-01-01</th>\n",
       "      <td>45.9</td>\n",
       "    </tr>\n",
       "    <tr>\n",
       "      <th>1985-01-01</th>\n",
       "      <td>17.9</td>\n",
       "    </tr>\n",
       "    <tr>\n",
       "      <th>1986-01-01</th>\n",
       "      <td>13.4</td>\n",
       "    </tr>\n",
       "    <tr>\n",
       "      <th>1987-01-01</th>\n",
       "      <td>29.4</td>\n",
       "    </tr>\n",
       "    <tr>\n",
       "      <th>1988-01-01</th>\n",
       "      <td>100.2</td>\n",
       "    </tr>\n",
       "    <tr>\n",
       "      <th>1989-01-01</th>\n",
       "      <td>157.6</td>\n",
       "    </tr>\n",
       "    <tr>\n",
       "      <th>1990-01-01</th>\n",
       "      <td>142.6</td>\n",
       "    </tr>\n",
       "    <tr>\n",
       "      <th>1991-01-01</th>\n",
       "      <td>145.7</td>\n",
       "    </tr>\n",
       "    <tr>\n",
       "      <th>1992-01-01</th>\n",
       "      <td>94.3</td>\n",
       "    </tr>\n",
       "    <tr>\n",
       "      <th>1993-01-01</th>\n",
       "      <td>54.6</td>\n",
       "    </tr>\n",
       "    <tr>\n",
       "      <th>1994-01-01</th>\n",
       "      <td>29.9</td>\n",
       "    </tr>\n",
       "    <tr>\n",
       "      <th>1995-01-01</th>\n",
       "      <td>17.5</td>\n",
       "    </tr>\n",
       "    <tr>\n",
       "      <th>1996-01-01</th>\n",
       "      <td>8.6</td>\n",
       "    </tr>\n",
       "    <tr>\n",
       "      <th>1997-01-01</th>\n",
       "      <td>21.5</td>\n",
       "    </tr>\n",
       "    <tr>\n",
       "      <th>1998-01-01</th>\n",
       "      <td>64.3</td>\n",
       "    </tr>\n",
       "    <tr>\n",
       "      <th>1999-01-01</th>\n",
       "      <td>93.3</td>\n",
       "    </tr>\n",
       "    <tr>\n",
       "      <th>2000-01-01</th>\n",
       "      <td>119.6</td>\n",
       "    </tr>\n",
       "    <tr>\n",
       "      <th>2001-01-01</th>\n",
       "      <td>111.0</td>\n",
       "    </tr>\n",
       "    <tr>\n",
       "      <th>2002-01-01</th>\n",
       "      <td>104.0</td>\n",
       "    </tr>\n",
       "    <tr>\n",
       "      <th>2003-01-01</th>\n",
       "      <td>63.7</td>\n",
       "    </tr>\n",
       "    <tr>\n",
       "      <th>2004-01-01</th>\n",
       "      <td>40.4</td>\n",
       "    </tr>\n",
       "    <tr>\n",
       "      <th>2005-01-01</th>\n",
       "      <td>29.8</td>\n",
       "    </tr>\n",
       "    <tr>\n",
       "      <th>2006-01-01</th>\n",
       "      <td>15.2</td>\n",
       "    </tr>\n",
       "    <tr>\n",
       "      <th>2007-01-01</th>\n",
       "      <td>7.5</td>\n",
       "    </tr>\n",
       "    <tr>\n",
       "      <th>2008-01-01</th>\n",
       "      <td>2.9</td>\n",
       "    </tr>\n",
       "  </tbody>\n",
       "</table>\n",
       "<p>309 rows × 1 columns</p>\n",
       "</div>"
      ],
      "text/plain": [
       "            YFCASES\n",
       "YEAR               \n",
       "1700-01-01      5.0\n",
       "1701-01-01     11.0\n",
       "1702-01-01     16.0\n",
       "1703-01-01     23.0\n",
       "1704-01-01     36.0\n",
       "...             ...\n",
       "2004-01-01     40.4\n",
       "2005-01-01     29.8\n",
       "2006-01-01     15.2\n",
       "2007-01-01      7.5\n",
       "2008-01-01      2.9\n",
       "\n",
       "[309 rows x 1 columns]"
      ]
     },
     "execution_count": 150,
     "metadata": {},
     "output_type": "execute_result"
    }
   ],
   "source": [
    "#Place your code here\n",
    "#import date_tools\n",
    "df = pd.read_csv('data/cases.csv')\n",
    "new_yr = []\n",
    "for yr in df.YEAR:\n",
    "    yr = str(yr)\n",
    "    yr = pd.to_datetime(yr)\n",
    "    new_yr.append(yr)\n",
    "df['YEAR'] = new_yr\n",
    "df.index = df['YEAR']\n",
    "df.drop(columns=[\"YEAR\"])"
   ]
  },
  {
   "cell_type": "markdown",
   "metadata": {},
   "source": [
    "2\\. Plot the autocorrelation function (ACF) and partial autocorrelation function (PCF) of the cases timeseries. (1 point)"
   ]
  },
  {
   "cell_type": "code",
   "execution_count": 151,
   "metadata": {},
   "outputs": [
    {
     "data": {
      "image/png": "[encoded data removed]",
      "text/plain": [
       "<Figure size 504x144 with 1 Axes>"
      ]
     },
     "metadata": {
      "needs_background": "light"
     },
     "output_type": "display_data"
    },
    {
     "data": {
      "image/png": "[encoded data removed]",
      "text/plain": [
       "<Figure size 504x144 with 1 Axes>"
      ]
     },
     "metadata": {
      "needs_background": "light"
     },
     "output_type": "display_data"
    }
   ],
   "source": [
    "#Place your code here\n",
    "import matplotlib.pyplot as plt\n",
    "import statsmodels\n",
    "from statsmodels.graphics.tsaplots import plot_acf\n",
    "from statsmodels.graphics.tsaplots import plot_pacf\n",
    "rcParams['figure.figsize'] = 7, 2\n",
    "acf_plot = plot_acf(df.YFCASES,lags=100)\n",
    "pacf_plot = plot_pacf(df.YFCASES,lags=100)"
   ]
  },
  {
   "cell_type": "markdown",
   "metadata": {},
   "source": [
    "3\\. Describe what the plots indicate (in terms of autocorrelation and autoregressive parameter (p) and moving average (q)). 2 points.\n",
    "Some rules of thumb to recall:<br>\n",
    "Rule 1: If the ACF shows exponential decay, the PACF has a spike at lag 1, and no correlation for other lags, then use one autoregressive (p)parameter <br>\n",
    "Rule 2: If the ACF shows a sine-wave shape pattern or a set of exponential decays, the PACF has spikes at lags 1 and 2, and no correlation for other lags, the use two autoregressive (p) parameters. <br>\n",
    "Rule 3: If the ACF has a spike at lag 1, no correlation for other lags, and the PACF damps out exponentially, then use one moving average (q) parameter. <br>\n",
    "Rule 4: If the ACF has spikes at lags 1 and 2, no correlation for other lags, and the PACF has a sine-wave shape pattern or a set of exponential decays, then use two moving average (q) parameter.<br>\n",
    "Rule 5: If the ACF shows exponential decay starting at lag 1, and the PACF shows exponential decay starting at lag 1, then use one autoregressive (p) and one moving average (q) parameter.<br>\n"
   ]
  },
  {
   "cell_type": "markdown",
   "metadata": {},
   "source": [
    "<p>\n",
    "<span style=\"color:blue\">\n",
    "\n",
    "\n",
    "We see from the partial autocorrelation that the time series exhibits a sine wave shape pattern and shows major differentiations from 0 only at lags 1 and 2 (lag 1 shows a sharp positive spike, while lag 2 shows a sharp negative spike ) and not at the other correlations.   This follows rule 2 above and shows that 2 autoregressive parameters should be used to account for the 2 sharp differentiations in the first 2 lags.  This puts the autoregressive parameter p at 2. Q the Moving average parameter is set to 0.\n",
    "\n",
    "</span>\n",
    "</p>"
   ]
  },
  {
   "cell_type": "markdown",
   "metadata": {},
   "source": [
    "4\\. Another approach to assessing the presence of autocorrelation is by using the  Durbin-Waton (DW) statistic. The value of the DW statistic is close to 2 if the errors are uncorrelated. What is DW for our data, and does this match what you observed from the ACF and PCF plots? (1 point) "
   ]
  },
  {
   "cell_type": "code",
   "execution_count": 152,
   "metadata": {
    "scrolled": true
   },
   "outputs": [
    {
     "data": {
      "text/plain": [
       "0.13952892659903304"
      ]
     },
     "execution_count": 152,
     "metadata": {},
     "output_type": "execute_result"
    }
   ],
   "source": [
    "#Place your code here\n",
    "from statsmodels.regression.linear_model import OLS\n",
    "from statsmodels.stats.stattools import durbin_watson\n",
    "#Get the autocorrelation of the residuals using ordinary least squares regression and dw statistic\n",
    "\n",
    "# Going back for a moment, lets try the durbin watson approach before ARMA modeling with the correct params. \n",
    "# This will show if by default (before correct modeling) the errors are uncorrelated\n",
    "from statsmodels.tsa.arima_model import ARMA\n",
    "#ar = (ARMA(df['YFCASES'], (0,0)).fit(disp=False))\n",
    "#durbin_watson(ar.resid.values)\n",
    "durbin_watson(df.YFCASES)"
   ]
  },
  {
   "cell_type": "markdown",
   "metadata": {},
   "source": [
    "This value of approximately .13953 shows that the correlation is strong (since it is far from 2 which would indicate no correlation)\n",
    "and that yellow fever cases in the past would be highly correlated with yellow fever cases in the future.\n",
    "This is consistent with what we saw in our plot"
   ]
  },
  {
   "cell_type": "markdown",
   "metadata": {},
   "source": [
    "5\\. Removing serial dependency by modeling a simple ARMA process with p and q as derived above. Take a look at what the resulting process looks like (plot) (1 point)\n"
   ]
  },
  {
   "cell_type": "code",
   "execution_count": 145,
   "metadata": {
    "scrolled": true
   },
   "outputs": [
    {
     "name": "stderr",
     "output_type": "stream",
     "text": [
      "/Library/Frameworks/Python.framework/Versions/3.7/lib/python3.7/site-packages/statsmodels/tsa/base/tsa_model.py:165: ValueWarning: No frequency information was provided, so inferred frequency AS-JAN will be used.\n",
      "  % freq, ValueWarning)\n"
     ]
    },
    {
     "data": {
      "image/png": "[encoded data removed]",
      "text/plain": [
       "<Figure size 504x144 with 1 Axes>"
      ]
     },
     "metadata": {
      "needs_background": "light"
     },
     "output_type": "display_data"
    }
   ],
   "source": [
    "#Place your code here\n",
    "\n",
    "from statsmodels.tsa.arima_model import ARMA\n",
    "mod = ARMA(df.YFCASES, order=(2,0))\n",
    "res = mod.fit()\n",
    "#plot = res.plot_predict(start=200, end=360)\n",
    "plot = res.resid.plot()\n",
    "#The new model shows that sine wave predictions are gone, indicating that the serial dependency will have been dealt with "
   ]
  },
  {
   "cell_type": "markdown",
   "metadata": {
    "collapsed": true
   },
   "source": [
    "6\\. Calculate the residuals, and test the null hypothesis that the residuals come from a normal distribution, and construct a qq-plot. Do the results of the hypothesis test and qq-plot align? (1 point)\n",
    "\n"
   ]
  },
  {
   "cell_type": "code",
   "execution_count": 146,
   "metadata": {
    "scrolled": true
   },
   "outputs": [
    {
     "data": {
      "text/plain": [
       "NormaltestResult(statistic=41.7360189161114, pvalue=8.652440949981364e-10)"
      ]
     },
     "execution_count": 146,
     "metadata": {},
     "output_type": "execute_result"
    },
    {
     "data": {
      "image/png": "[encoded data removed]",
      "text/plain": [
       "<Figure size 504x288 with 1 Axes>"
      ]
     },
     "metadata": {
      "needs_background": "light"
     },
     "output_type": "display_data"
    }
   ],
   "source": [
    "#Place your code here\n",
    "import statsmodels as sm\n",
    "from scipy import stats\n",
    "from statsmodels.graphics.gofplots import qqplot\n",
    "fig = plt.figure(figsize=(7,4))\n",
    "ax = fig.add_subplot(111)\n",
    "fig = qqplot(res.resid, line='q', ax=ax, fit=True)\n",
    "#Test to see if the data belongs to a normal distribution\n",
    "stats.normaltest(res.resid)\n"
   ]
  },
  {
   "cell_type": "markdown",
   "metadata": {},
   "source": [
    "<p>\n",
    "<span style=\"color:blue\">\n",
    "The P Value is very low indicating that the data doesnt follow a normal distribution.  The qqplot shows that the errors and normal distribution line up for quantiles between -2 and 1 but veer apart beyond those values. \n",
    "</span>\n",
    "</p>\n"
   ]
  },
  {
   "cell_type": "markdown",
   "metadata": {},
   "source": [
    "7\\. Now investigate the autocorrelation of your ARMA(p,q) model. Did it improve?\n",
    "These can be examined graphically, but a statistic will help.\n",
    "Next, we calculate the lag, autocorrelation (AC), Q statistic and Prob>Q. \n",
    "The Ljung–Box Q test is a type of statistical test of whether any of a group of autocorrelations of a time series are different from zero. The null hypothesis is, H0: The data are independently distributed (i.e. the correlations in the population from which the sample is taken are 0, so that any observed correlations in the data result from randomness of the sampling process). (Hint: use qstat in tsa.acf).\n"
   ]
  },
  {
   "cell_type": "code",
   "execution_count": 147,
   "metadata": {
    "scrolled": true
   },
   "outputs": [
    {
     "data": {
      "text/html": [
       "<div>\n",
       "<style scoped>\n",
       "    .dataframe tbody tr th:only-of-type {\n",
       "        vertical-align: middle;\n",
       "    }\n",
       "\n",
       "    .dataframe tbody tr th {\n",
       "        vertical-align: top;\n",
       "    }\n",
       "\n",
       "    .dataframe thead th {\n",
       "        text-align: right;\n",
       "    }\n",
       "</style>\n",
       "<table border=\"1\" class=\"dataframe\">\n",
       "  <thead>\n",
       "    <tr style=\"text-align: right;\">\n",
       "      <th></th>\n",
       "      <th>r(autocorr)</th>\n",
       "      <th>q</th>\n",
       "      <th>p</th>\n",
       "    </tr>\n",
       "  </thead>\n",
       "  <tbody>\n",
       "    <tr>\n",
       "      <th>1</th>\n",
       "      <td>-0.085220</td>\n",
       "      <td>2.265960</td>\n",
       "      <td>0.132244</td>\n",
       "    </tr>\n",
       "    <tr>\n",
       "      <th>2</th>\n",
       "      <td>0.103692</td>\n",
       "      <td>5.631595</td>\n",
       "      <td>0.059857</td>\n",
       "    </tr>\n",
       "    <tr>\n",
       "      <th>3</th>\n",
       "      <td>-0.027833</td>\n",
       "      <td>5.874879</td>\n",
       "      <td>0.117859</td>\n",
       "    </tr>\n",
       "    <tr>\n",
       "      <th>4</th>\n",
       "      <td>0.091123</td>\n",
       "      <td>8.491075</td>\n",
       "      <td>0.075158</td>\n",
       "    </tr>\n",
       "    <tr>\n",
       "      <th>5</th>\n",
       "      <td>0.019010</td>\n",
       "      <td>8.605308</td>\n",
       "      <td>0.125881</td>\n",
       "    </tr>\n",
       "    <tr>\n",
       "      <th>6</th>\n",
       "      <td>0.031321</td>\n",
       "      <td>8.916433</td>\n",
       "      <td>0.178333</td>\n",
       "    </tr>\n",
       "    <tr>\n",
       "      <th>7</th>\n",
       "      <td>0.044485</td>\n",
       "      <td>9.546129</td>\n",
       "      <td>0.215785</td>\n",
       "    </tr>\n",
       "    <tr>\n",
       "      <th>8</th>\n",
       "      <td>-0.034337</td>\n",
       "      <td>9.922560</td>\n",
       "      <td>0.270503</td>\n",
       "    </tr>\n",
       "    <tr>\n",
       "      <th>9</th>\n",
       "      <td>0.185690</td>\n",
       "      <td>20.967738</td>\n",
       "      <td>0.012794</td>\n",
       "    </tr>\n",
       "    <tr>\n",
       "      <th>10</th>\n",
       "      <td>0.191608</td>\n",
       "      <td>32.767501</td>\n",
       "      <td>0.000298</td>\n",
       "    </tr>\n",
       "    <tr>\n",
       "      <th>11</th>\n",
       "      <td>0.190385</td>\n",
       "      <td>44.456250</td>\n",
       "      <td>0.000006</td>\n",
       "    </tr>\n",
       "    <tr>\n",
       "      <th>12</th>\n",
       "      <td>0.121693</td>\n",
       "      <td>49.247985</td>\n",
       "      <td>0.000002</td>\n",
       "    </tr>\n",
       "    <tr>\n",
       "      <th>13</th>\n",
       "      <td>-0.016219</td>\n",
       "      <td>49.333387</td>\n",
       "      <td>0.000004</td>\n",
       "    </tr>\n",
       "    <tr>\n",
       "      <th>14</th>\n",
       "      <td>0.014986</td>\n",
       "      <td>49.406549</td>\n",
       "      <td>0.000008</td>\n",
       "    </tr>\n",
       "    <tr>\n",
       "      <th>15</th>\n",
       "      <td>-0.063197</td>\n",
       "      <td>50.711997</td>\n",
       "      <td>0.000009</td>\n",
       "    </tr>\n",
       "    <tr>\n",
       "      <th>16</th>\n",
       "      <td>0.039730</td>\n",
       "      <td>51.229710</td>\n",
       "      <td>0.000015</td>\n",
       "    </tr>\n",
       "    <tr>\n",
       "      <th>17</th>\n",
       "      <td>0.009577</td>\n",
       "      <td>51.259893</td>\n",
       "      <td>0.000027</td>\n",
       "    </tr>\n",
       "    <tr>\n",
       "      <th>18</th>\n",
       "      <td>-0.073645</td>\n",
       "      <td>53.050953</td>\n",
       "      <td>0.000026</td>\n",
       "    </tr>\n",
       "    <tr>\n",
       "      <th>19</th>\n",
       "      <td>0.076469</td>\n",
       "      <td>54.988687</td>\n",
       "      <td>0.000023</td>\n",
       "    </tr>\n",
       "    <tr>\n",
       "      <th>20</th>\n",
       "      <td>-0.006827</td>\n",
       "      <td>55.004184</td>\n",
       "      <td>0.000041</td>\n",
       "    </tr>\n",
       "    <tr>\n",
       "      <th>21</th>\n",
       "      <td>0.088818</td>\n",
       "      <td>57.636451</td>\n",
       "      <td>0.000029</td>\n",
       "    </tr>\n",
       "    <tr>\n",
       "      <th>22</th>\n",
       "      <td>0.120485</td>\n",
       "      <td>62.497164</td>\n",
       "      <td>0.000009</td>\n",
       "    </tr>\n",
       "    <tr>\n",
       "      <th>23</th>\n",
       "      <td>0.103328</td>\n",
       "      <td>66.084673</td>\n",
       "      <td>0.000005</td>\n",
       "    </tr>\n",
       "    <tr>\n",
       "      <th>24</th>\n",
       "      <td>-0.085728</td>\n",
       "      <td>68.562789</td>\n",
       "      <td>0.000004</td>\n",
       "    </tr>\n",
       "    <tr>\n",
       "      <th>25</th>\n",
       "      <td>0.013730</td>\n",
       "      <td>68.626578</td>\n",
       "      <td>0.000006</td>\n",
       "    </tr>\n",
       "    <tr>\n",
       "      <th>26</th>\n",
       "      <td>-0.036183</td>\n",
       "      <td>69.071149</td>\n",
       "      <td>0.000009</td>\n",
       "    </tr>\n",
       "    <tr>\n",
       "      <th>27</th>\n",
       "      <td>-0.150156</td>\n",
       "      <td>76.754566</td>\n",
       "      <td>0.000001</td>\n",
       "    </tr>\n",
       "    <tr>\n",
       "      <th>28</th>\n",
       "      <td>0.049680</td>\n",
       "      <td>77.598636</td>\n",
       "      <td>0.000002</td>\n",
       "    </tr>\n",
       "    <tr>\n",
       "      <th>29</th>\n",
       "      <td>-0.055467</td>\n",
       "      <td>78.654558</td>\n",
       "      <td>0.000002</td>\n",
       "    </tr>\n",
       "    <tr>\n",
       "      <th>30</th>\n",
       "      <td>0.003354</td>\n",
       "      <td>78.658432</td>\n",
       "      <td>0.000003</td>\n",
       "    </tr>\n",
       "    <tr>\n",
       "      <th>31</th>\n",
       "      <td>-0.010905</td>\n",
       "      <td>78.699542</td>\n",
       "      <td>0.000005</td>\n",
       "    </tr>\n",
       "    <tr>\n",
       "      <th>32</th>\n",
       "      <td>0.120386</td>\n",
       "      <td>83.727466</td>\n",
       "      <td>0.000002</td>\n",
       "    </tr>\n",
       "    <tr>\n",
       "      <th>33</th>\n",
       "      <td>0.042680</td>\n",
       "      <td>84.361702</td>\n",
       "      <td>0.000002</td>\n",
       "    </tr>\n",
       "    <tr>\n",
       "      <th>34</th>\n",
       "      <td>0.011107</td>\n",
       "      <td>84.404813</td>\n",
       "      <td>0.000004</td>\n",
       "    </tr>\n",
       "    <tr>\n",
       "      <th>35</th>\n",
       "      <td>0.024261</td>\n",
       "      <td>84.611254</td>\n",
       "      <td>0.000005</td>\n",
       "    </tr>\n",
       "    <tr>\n",
       "      <th>36</th>\n",
       "      <td>-0.125046</td>\n",
       "      <td>90.115482</td>\n",
       "      <td>0.000002</td>\n",
       "    </tr>\n",
       "    <tr>\n",
       "      <th>37</th>\n",
       "      <td>-0.036394</td>\n",
       "      <td>90.583431</td>\n",
       "      <td>0.000002</td>\n",
       "    </tr>\n",
       "    <tr>\n",
       "      <th>38</th>\n",
       "      <td>-0.060509</td>\n",
       "      <td>91.881754</td>\n",
       "      <td>0.000002</td>\n",
       "    </tr>\n",
       "    <tr>\n",
       "      <th>39</th>\n",
       "      <td>-0.024440</td>\n",
       "      <td>92.094344</td>\n",
       "      <td>0.000003</td>\n",
       "    </tr>\n",
       "    <tr>\n",
       "      <th>40</th>\n",
       "      <td>0.000581</td>\n",
       "      <td>92.094465</td>\n",
       "      <td>0.000005</td>\n",
       "    </tr>\n",
       "  </tbody>\n",
       "</table>\n",
       "</div>"
      ],
      "text/plain": [
       "    r(autocorr)          q         p\n",
       "1     -0.085220   2.265960  0.132244\n",
       "2      0.103692   5.631595  0.059857\n",
       "3     -0.027833   5.874879  0.117859\n",
       "4      0.091123   8.491075  0.075158\n",
       "5      0.019010   8.605308  0.125881\n",
       "6      0.031321   8.916433  0.178333\n",
       "7      0.044485   9.546129  0.215785\n",
       "8     -0.034337   9.922560  0.270503\n",
       "9      0.185690  20.967738  0.012794\n",
       "10     0.191608  32.767501  0.000298\n",
       "11     0.190385  44.456250  0.000006\n",
       "12     0.121693  49.247985  0.000002\n",
       "13    -0.016219  49.333387  0.000004\n",
       "14     0.014986  49.406549  0.000008\n",
       "15    -0.063197  50.711997  0.000009\n",
       "16     0.039730  51.229710  0.000015\n",
       "17     0.009577  51.259893  0.000027\n",
       "18    -0.073645  53.050953  0.000026\n",
       "19     0.076469  54.988687  0.000023\n",
       "20    -0.006827  55.004184  0.000041\n",
       "21     0.088818  57.636451  0.000029\n",
       "22     0.120485  62.497164  0.000009\n",
       "23     0.103328  66.084673  0.000005\n",
       "24    -0.085728  68.562789  0.000004\n",
       "25     0.013730  68.626578  0.000006\n",
       "26    -0.036183  69.071149  0.000009\n",
       "27    -0.150156  76.754566  0.000001\n",
       "28     0.049680  77.598636  0.000002\n",
       "29    -0.055467  78.654558  0.000002\n",
       "30     0.003354  78.658432  0.000003\n",
       "31    -0.010905  78.699542  0.000005\n",
       "32     0.120386  83.727466  0.000002\n",
       "33     0.042680  84.361702  0.000002\n",
       "34     0.011107  84.404813  0.000004\n",
       "35     0.024261  84.611254  0.000005\n",
       "36    -0.125046  90.115482  0.000002\n",
       "37    -0.036394  90.583431  0.000002\n",
       "38    -0.060509  91.881754  0.000002\n",
       "39    -0.024440  92.094344  0.000003\n",
       "40     0.000581  92.094465  0.000005"
      ]
     },
     "execution_count": 147,
     "metadata": {},
     "output_type": "execute_result"
    },
    {
     "data": {
      "image/png": "[encoded data removed]",
      "text/plain": [
       "<Figure size 504x144 with 1 Axes>"
      ]
     },
     "metadata": {
      "needs_background": "light"
     },
     "output_type": "display_data"
    },
    {
     "data": {
      "image/png": "[encoded data removed]",
      "text/plain": [
       "<Figure size 504x144 with 1 Axes>"
      ]
     },
     "metadata": {
      "needs_background": "light"
     },
     "output_type": "display_data"
    }
   ],
   "source": [
    "import statsmodels.api as sm\n",
    "acf_plot = plot_acf(res.resid.values,lags=100)\n",
    "pacf_plot = plot_pacf(res.resid.values,lags=100)\n",
    "\n",
    "r,q,p=sm.tsa.acf(res.resid.values, qstat=True)\n",
    "table = pd.DataFrame(index = np.arange(1,41), columns=[\"r(autocorr)\",\"q\",\"p\"])\n",
    "table[\"r(autocorr)\"] = r[1:]\n",
    "table[\"q\"] = q\n",
    "table[\"p\"] = p\n",
    "#print(f\"P Values: {p} \\n R Values: {r} \\n Q Values: {q}\")\n",
    "table\n"
   ]
  },
  {
   "cell_type": "markdown",
   "metadata": {},
   "source": [
    "<p>\n",
    "<span style=\"color:blue\">\n",
    "The autocorrelation graph is now a lot more on par with the partial autocorrelation graph and the spikes have been smoothened indicating that serial dependency has been removed by specifying the correct autoregressive parameters p and q in the ARMA model.  The autocorrelations are now smoothened and closer to you as the autocorrelations of the errors have been dealth with.   The p values dropping to near 0 after lag 8 also shows autocorrelations a lot closer to 0 indicating independent distribution.\n",
    "</span>\n",
    "</p>"
   ]
  },
  {
   "cell_type": "markdown",
   "metadata": {
    "collapsed": true
   },
   "source": [
    "8\\. Compute prediction for years 2009-2012 and analyze their fit against actual values. (1 point)"
   ]
  },
  {
   "cell_type": "code",
   "execution_count": 148,
   "metadata": {},
   "outputs": [
    {
     "data": {
      "text/plain": [
       "2009-01-01    13.662915\n",
       "2010-01-01    31.797851\n",
       "2011-01-01    49.606269\n",
       "2012-01-01    61.884453\n",
       "Freq: AS-JAN, dtype: float64"
      ]
     },
     "execution_count": 148,
     "metadata": {},
     "output_type": "execute_result"
    }
   ],
   "source": [
    "predictions = res.predict(start = '2009', end = '2012', dynamic = True)\n",
    "predictions\n",
    "\n",
    "\n"
   ]
  },
  {
   "cell_type": "markdown",
   "metadata": {},
   "source": [
    "9\\. Calculate the forecast error via MAE and MFE.  (2 points)\n",
    "Reminders:\n",
    "Mean absolute error: The mean absolute error (MAE) value is computed as the average absolute error value. If MAE is zero the forecast is perfect. As compared to the mean squared error (MSE), this measure of fit “de-emphasizes” outliers (unique or rare large error values will affect the MAE less than the MSE.\n",
    "\n",
    "Mean Forecast Error (MFE, also known as Bias). The MFE is the average error in the observations. A large positive MFE means that the forecast is undershooting the actual observations. A large negative MFE means the forecast is overshooting the actual observations. A value near zero is ideal, and generally a small value means a pretty good fit. \n",
    "\n",
    "The MAE is a better indicator of fit than the MFE.\n",
    "\n"
   ]
  },
  {
   "cell_type": "code",
   "execution_count": 149,
   "metadata": {
    "scrolled": true
   },
   "outputs": [
    {
     "name": "stdout",
     "output_type": "stream",
     "text": [
      "Forecast Error: 17.589856412826133, Absolute Error: 0.36525486953001834\n"
     ]
    }
   ],
   "source": [
    "#pred = res.predict(res.nobs-309,res.nobs-1)\n",
    "pred = res.predict(df.YEAR[0],df.YEAR[-1],dynamic=True)\n",
    "yfcases = df.YFCASES[0:]\n",
    "#get the mean differences between the predictions and actual\n",
    "forecast_err = yfcases.sub(pred).mean()\n",
    "#get the avg of the absolute values of the mean differences over the predictions\n",
    "abs_err = np.mean((np.abs(yfcases.sub(pred).mean()) / pred))\n",
    "print(f\"Forecast Error: {forecast_err}, Absolute Error: {abs_err}\")\n"
   ]
  },
  {
   "cell_type": "code",
   "execution_count": null,
   "metadata": {},
   "outputs": [],
   "source": []
  },
  {
   "cell_type": "code",
   "execution_count": null,
   "metadata": {},
   "outputs": [],
   "source": []
  },
  {
   "cell_type": "code",
   "execution_count": null,
   "metadata": {},
   "outputs": [],
   "source": []
  },
  {
   "cell_type": "code",
   "execution_count": null,
   "metadata": {},
   "outputs": [],
   "source": []
  }
 ],
 "metadata": {
  "kernelspec": {
   "display_name": "Python 3",
   "language": "python",
   "name": "python3"
  },
  "language_info": {
   "codemirror_mode": {
    "name": "ipython",
    "version": 3
   },
   "file_extension": ".py",
   "mimetype": "text/x-python",
   "name": "python",
   "nbconvert_exporter": "python",
   "pygments_lexer": "ipython3",
   "version": "3.7.3"
  }
 },
 "nbformat": 4,
 "nbformat_minor": 1
}
